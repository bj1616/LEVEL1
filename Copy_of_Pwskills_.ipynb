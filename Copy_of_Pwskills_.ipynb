{
  "nbformat": 4,
  "nbformat_minor": 0,
  "metadata": {
    "colab": {
      "provenance": [],
      "include_colab_link": true
    },
    "kernelspec": {
      "name": "python3",
      "display_name": "Python 3"
    },
    "language_info": {
      "name": "python"
    }
  },
  "cells": [
    {
      "cell_type": "markdown",
      "metadata": {
        "id": "view-in-github",
        "colab_type": "text"
      },
      "source": [
        "<a href=\"https://colab.research.google.com/github/bj1616/LEVEL1/blob/main/Copy_of_Pwskills_.ipynb\" target=\"_parent\"><img src=\"https://colab.research.google.com/assets/colab-badge.svg\" alt=\"Open In Colab\"/></a>"
      ]
    },
    {
      "cell_type": "code",
      "execution_count": null,
      "metadata": {
        "id": "Q8HgkVSCqaQp",
        "outputId": "03ec494a-193c-484e-bff1-2872e636b502",
        "colab": {
          "base_uri": "https://localhost:8080/"
        }
      },
      "outputs": [
        {
          "output_type": "stream",
          "name": "stdout",
          "text": [
            "hello world\n"
          ]
        }
      ],
      "source": [
        "print(\"hello world\")"
      ]
    },
    {
      "cell_type": "code",
      "source": [
        "print(\"hi harsh\")"
      ],
      "metadata": {
        "id": "amer7Ucu4QK9",
        "colab": {
          "base_uri": "https://localhost:8080/"
        },
        "outputId": "6c4a8c8b-0271-41e4-b655-33f644477584"
      },
      "execution_count": null,
      "outputs": [
        {
          "output_type": "stream",
          "name": "stdout",
          "text": [
            "hi harsh\n"
          ]
        }
      ]
    },
    {
      "cell_type": "code",
      "source": [
        "print(\"hii\")"
      ],
      "metadata": {
        "id": "CR9kYz2p5QlE",
        "colab": {
          "base_uri": "https://localhost:8080/"
        },
        "outputId": "f8a72275-8a41-45da-e0ec-d3772318895f"
      },
      "execution_count": 2,
      "outputs": [
        {
          "output_type": "stream",
          "name": "stdout",
          "text": [
            "hii\n"
          ]
        }
      ]
    },
    {
      "cell_type": "code",
      "source": [],
      "metadata": {
        "id": "enyac4kt7csK"
      },
      "execution_count": null,
      "outputs": []
    }
  ]
}